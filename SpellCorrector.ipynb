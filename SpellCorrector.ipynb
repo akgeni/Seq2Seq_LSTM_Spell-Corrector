{
 "cells": [
  {
   "cell_type": "code",
   "execution_count": 10,
   "metadata": {},
   "outputs": [],
   "source": [
    "from __future__ import print_function\n",
    "\n",
    "from keras.models import Model\n",
    "from keras.layers import Input, LSTM, Dense\n",
    "import numpy as np\n",
    "import os"
   ]
  },
  {
   "cell_type": "code",
   "execution_count": 2,
   "metadata": {},
   "outputs": [],
   "source": [
    "batch_size = 64  # Batch size for training.\n",
    "epochs = 100  # Number of epochs to train for.\n",
    "latent_dim = 256  # Latent dimensionality of the encoding space.\n",
    "num_samples = 10000  # Number of samples to train on.\n",
    "# Path to the data txt file on disk.\n",
    "data_path = 'D:\\\\data\\\\0643'"
   ]
  },
  {
   "cell_type": "code",
   "execution_count": 3,
   "metadata": {},
   "outputs": [],
   "source": [
    "input_texts = []\n",
    "target_texts = []\n",
    "input_characters = set()\n",
    "target_characters = set()"
   ]
  },
  {
   "cell_type": "code",
   "execution_count": null,
   "metadata": {},
   "outputs": [],
   "source": []
  },
  {
   "cell_type": "code",
   "execution_count": 6,
   "metadata": {},
   "outputs": [],
   "source": [
    "def get_premuted(x):\n",
    "    premuted_x = []\n",
    "    for i in range(len(x)):\n",
    "        rnd_index = np.random.randint(0, len(x))\n",
    "        new_x = x[:rnd_index+1]+x[rnd_index:]\n",
    "        premuted_x.append(new_x)\n",
    "    for item in [x + x[-1], x + x[-1]*2, x[:-1], x]:\n",
    "        premuted_x.append(item)\n",
    "        \n",
    "    return premuted_x"
   ]
  },
  {
   "cell_type": "code",
   "execution_count": 11,
   "metadata": {},
   "outputs": [],
   "source": [
    "for file in os.listdir(data_path):\n",
    "    input_set = set()\n",
    "    target_set = set()\n",
    "    with open(os.path.join(data_path, file), \"r\", encoding=\"utf-8\") as fp:\n",
    "        for line in fp:\n",
    "            line_split = line.split()\n",
    "            if len(line_split) > 1:\n",
    "                inp, target = line_split[0], line_split[1]\n",
    "            else:\n",
    "                continue\n",
    "            \n",
    "            if len(inp) > 0 and len(target) > 0:\n",
    "                premuted_inp = get_premuted(inp.lower())\n",
    "                \n",
    "                for item in premuted_inp:\n",
    "                    if len(item) > 1 and item not in input_set:\n",
    "                        input_texts.append(item)\n",
    "                        target_texts.append(\"\\t\" + target.lower() + \"\\n\")\n",
    "                        input_set.add(item)\n",
    "                        \n",
    "                \n",
    "                        \n",
    "                input_characters.update(inp.lower())\n",
    "                target_characters.update(target.lower() + \"\\t\\n\")\n",
    "                    \n",
    "                \n",
    "        "
   ]
  },
  {
   "cell_type": "code",
   "execution_count": 12,
   "metadata": {},
   "outputs": [
    {
     "data": {
      "text/plain": [
       "(303726, 303726)"
      ]
     },
     "execution_count": 12,
     "metadata": {},
     "output_type": "execute_result"
    }
   ],
   "source": [
    "len(input_texts), len(target_texts)"
   ]
  },
  {
   "cell_type": "code",
   "execution_count": 15,
   "metadata": {},
   "outputs": [
    {
     "data": {
      "text/plain": [
       "['beatefful',\n",
       " 'beeateful',\n",
       " 'beatefull',\n",
       " 'beatefulll',\n",
       " 'beatefu',\n",
       " 'beateful',\n",
       " 'divve',\n",
       " 'divee',\n",
       " 'ddive',\n",
       " 'diveee']"
      ]
     },
     "execution_count": 15,
     "metadata": {},
     "output_type": "execute_result"
    }
   ],
   "source": [
    "input_texts[20:30]"
   ]
  },
  {
   "cell_type": "code",
   "execution_count": 16,
   "metadata": {},
   "outputs": [
    {
     "data": {
      "text/plain": [
       "['\\tbeautiful\\n',\n",
       " '\\tbeautiful\\n',\n",
       " '\\tbeautiful\\n',\n",
       " '\\tbeautiful\\n',\n",
       " '\\tbeautiful\\n',\n",
       " '\\tbeautiful\\n',\n",
       " '\\tdrive,\\n',\n",
       " '\\tdrive,\\n',\n",
       " '\\tdrive,\\n',\n",
       " '\\tdrive,\\n']"
      ]
     },
     "execution_count": 16,
     "metadata": {},
     "output_type": "execute_result"
    }
   ],
   "source": [
    "target_texts[20:30]"
   ]
  },
  {
   "cell_type": "code",
   "execution_count": 17,
   "metadata": {},
   "outputs": [],
   "source": [
    "input_characters = sorted(list(input_characters))\n",
    "target_characters = sorted(list(target_characters))\n",
    "num_encoder_tokens = len(input_characters)\n",
    "num_decoder_tokens = len(target_characters)\n",
    "max_encoder_seq_length = max([len(txt) for txt in input_texts])\n",
    "max_decoder_seq_length = max([len(txt) for txt in target_texts])"
   ]
  },
  {
   "cell_type": "code",
   "execution_count": 18,
   "metadata": {},
   "outputs": [
    {
     "name": "stdout",
     "output_type": "stream",
     "text": [
      "Number of samples: 303726\n",
      "Number of unique input tokens: 56\n",
      "Number of unique output tokens: 60\n",
      "Max sequence length for inputs: 27\n",
      "Max sequence length for outputs: 28\n"
     ]
    }
   ],
   "source": [
    "print('Number of samples:', len(input_texts))\n",
    "print('Number of unique input tokens:', num_encoder_tokens)\n",
    "print('Number of unique output tokens:', num_decoder_tokens)\n",
    "print('Max sequence length for inputs:', max_encoder_seq_length)\n",
    "print('Max sequence length for outputs:', max_decoder_seq_length)"
   ]
  },
  {
   "cell_type": "code",
   "execution_count": 19,
   "metadata": {},
   "outputs": [],
   "source": [
    "input_token_index = dict(\n",
    "    [(char, i) for i, char in enumerate(input_characters)])\n",
    "target_token_index = dict(\n",
    "    [(char, i) for i, char in enumerate(target_characters)])"
   ]
  },
  {
   "cell_type": "code",
   "execution_count": 20,
   "metadata": {},
   "outputs": [],
   "source": [
    "encoder_input_data = np.zeros(\n",
    "    (len(input_texts), max_encoder_seq_length, num_encoder_tokens),\n",
    "    dtype='float32')\n",
    "decoder_input_data = np.zeros(\n",
    "    (len(input_texts), max_decoder_seq_length, num_decoder_tokens),\n",
    "    dtype='float32')\n",
    "decoder_target_data = np.zeros(\n",
    "    (len(input_texts), max_decoder_seq_length, num_decoder_tokens),\n",
    "    dtype='float32')"
   ]
  },
  {
   "cell_type": "code",
   "execution_count": 21,
   "metadata": {},
   "outputs": [],
   "source": [
    "for i, (input_text, target_text) in enumerate(zip(input_texts, target_texts)):\n",
    "    for t, char in enumerate(input_text):\n",
    "        encoder_input_data[i, t, input_token_index[char]] = 1.\n",
    "    for t, char in enumerate(target_text):\n",
    "        # decoder_target_data is ahead of decoder_input_data by one timestep\n",
    "        decoder_input_data[i, t, target_token_index[char]] = 1.\n",
    "        if t > 0:\n",
    "            # decoder_target_data will be ahead by one timestep\n",
    "            # and will not include the start character.\n",
    "            decoder_target_data[i, t - 1, target_token_index[char]] = 1."
   ]
  },
  {
   "cell_type": "code",
   "execution_count": 22,
   "metadata": {},
   "outputs": [],
   "source": [
    "# Define an input sequence and process it.\n",
    "encoder_inputs = Input(shape=(None, num_encoder_tokens))\n",
    "encoder = LSTM(latent_dim, return_state=True)\n",
    "encoder_outputs, state_h, state_c = encoder(encoder_inputs)\n",
    "# We discard `encoder_outputs` and only keep the states.\n",
    "encoder_states = [state_h, state_c]\n"
   ]
  },
  {
   "cell_type": "code",
   "execution_count": 23,
   "metadata": {},
   "outputs": [],
   "source": [
    "# Set up the decoder, using `encoder_states` as initial state.\n",
    "decoder_inputs = Input(shape=(None, num_decoder_tokens))\n",
    "# We set up our decoder to return full output sequences,\n",
    "# and to return internal states as well. We don't use the\n",
    "# return states in the training model, but we will use them in inference.\n",
    "decoder_lstm = LSTM(latent_dim, return_sequences=True, return_state=True)\n",
    "decoder_outputs, _, _ = decoder_lstm(decoder_inputs,\n",
    "                                     initial_state=encoder_states)\n",
    "decoder_dense = Dense(num_decoder_tokens, activation='softmax')\n",
    "decoder_outputs = decoder_dense(decoder_outputs)\n"
   ]
  },
  {
   "cell_type": "code",
   "execution_count": 24,
   "metadata": {},
   "outputs": [],
   "source": [
    "# Define the model that will turn\n",
    "# `encoder_input_data` & `decoder_input_data` into `decoder_target_data`\n",
    "model = Model([encoder_inputs, decoder_inputs], decoder_outputs)\n"
   ]
  },
  {
   "cell_type": "code",
   "execution_count": 25,
   "metadata": {},
   "outputs": [
    {
     "name": "stdout",
     "output_type": "stream",
     "text": [
      "Train on 242980 samples, validate on 60746 samples\n",
      "Epoch 1/5\n",
      "242980/242980 [==============================] - 293s 1ms/step - loss: 0.3139 - acc: 0.0965 - val_loss: 0.5201 - val_acc: 0.1682\n",
      "Epoch 2/5\n",
      "242980/242980 [==============================] - 288s 1ms/step - loss: 0.1667 - acc: 0.1396 - val_loss: 0.4645 - val_acc: 0.1903\n",
      "Epoch 3/5\n",
      "242980/242980 [==============================] - 288s 1ms/step - loss: 0.1172 - acc: 0.1535 - val_loss: 0.4791 - val_acc: 0.1944\n",
      "Epoch 4/5\n",
      "242980/242980 [==============================] - 296s 1ms/step - loss: 0.0920 - acc: 0.1603 - val_loss: 0.5141 - val_acc: 0.1940\n",
      "Epoch 5/5\n",
      "242980/242980 [==============================] - 288s 1ms/step - loss: 0.0768 - acc: 0.1645 - val_loss: 0.5486 - val_acc: 0.1931\n"
     ]
    },
    {
     "data": {
      "text/plain": [
       "<keras.callbacks.History at 0x2b6aebaa160>"
      ]
     },
     "execution_count": 25,
     "metadata": {},
     "output_type": "execute_result"
    }
   ],
   "source": [
    "# Run training\n",
    "model.compile(optimizer='rmsprop', loss='categorical_crossentropy', metrics=['acc'])\n",
    "model.fit([encoder_input_data, decoder_input_data], decoder_target_data,\n",
    "          batch_size=batch_size,\n",
    "          epochs=5,\n",
    "          validation_split=0.2)\n"
   ]
  },
  {
   "cell_type": "code",
   "execution_count": 135,
   "metadata": {},
   "outputs": [
    {
     "name": "stderr",
     "output_type": "stream",
     "text": [
      "C:\\Users\\anshu\\AppData\\Local\\Continuum\\anaconda3\\envs\\mlenv\\lib\\site-packages\\keras\\engine\\topology.py:2379: UserWarning: Layer lstm_2 was passed non-serializable keyword arguments: {'initial_state': [<tf.Tensor 'lstm_1/while/Exit_2:0' shape=(?, 256) dtype=float32>, <tf.Tensor 'lstm_1/while/Exit_3:0' shape=(?, 256) dtype=float32>]}. They will not be included in the serialized model (and thus will be missing at deserialization time).\n",
      "  str(node.arguments) + '. They will not be included '\n"
     ]
    }
   ],
   "source": [
    "# Save model\n",
    "model.save('s2s.h5')"
   ]
  },
  {
   "cell_type": "code",
   "execution_count": 26,
   "metadata": {},
   "outputs": [],
   "source": [
    "# Next: inference mode (sampling).\n",
    "# Here's the drill:\n",
    "# 1) encode input and retrieve initial decoder state\n",
    "# 2) run one step of decoder with this initial state\n",
    "# and a \"start of sequence\" token as target.\n",
    "# Output will be the next target token\n",
    "# 3) Repeat with the current target token and current states\n",
    "\n",
    "# Define sampling models\n",
    "encoder_model = Model(encoder_inputs, encoder_states)\n",
    "\n",
    "decoder_state_input_h = Input(shape=(latent_dim,))\n",
    "decoder_state_input_c = Input(shape=(latent_dim,))\n",
    "decoder_states_inputs = [decoder_state_input_h, decoder_state_input_c]\n",
    "decoder_outputs, state_h, state_c = decoder_lstm(\n",
    "    decoder_inputs, initial_state=decoder_states_inputs)\n",
    "decoder_states = [state_h, state_c]\n",
    "decoder_outputs = decoder_dense(decoder_outputs)\n",
    "decoder_model = Model(\n",
    "    [decoder_inputs] + decoder_states_inputs,\n",
    "    [decoder_outputs] + decoder_states)"
   ]
  },
  {
   "cell_type": "code",
   "execution_count": 27,
   "metadata": {},
   "outputs": [],
   "source": [
    "# Reverse-lookup token index to decode sequences back to\n",
    "# something readable.\n",
    "reverse_input_char_index = dict(\n",
    "    (i, char) for char, i in input_token_index.items())\n",
    "reverse_target_char_index = dict(\n",
    "    (i, char) for char, i in target_token_index.items())\n",
    "\n",
    "\n",
    "def decode_sequence(input_seq):\n",
    "    # Encode the input as state vectors.\n",
    "    states_value = encoder_model.predict(input_seq)\n",
    "\n",
    "    # Generate empty target sequence of length 1.\n",
    "    target_seq = np.zeros((1, 1, num_decoder_tokens))\n",
    "    # Populate the first character of target sequence with the start character.\n",
    "    target_seq[0, 0, target_token_index['\\t']] = 1.\n",
    "\n",
    "    # Sampling loop for a batch of sequences\n",
    "    # (to simplify, here we assume a batch of size 1).\n",
    "    stop_condition = False\n",
    "    decoded_sentence = ''\n",
    "    while not stop_condition:\n",
    "        output_tokens, h, c = decoder_model.predict(\n",
    "            [target_seq] + states_value)\n",
    "\n",
    "        # Sample a token\n",
    "        sampled_token_index = np.argmax(output_tokens[0, -1, :])\n",
    "        sampled_char = reverse_target_char_index[sampled_token_index]\n",
    "        decoded_sentence += sampled_char\n",
    "\n",
    "        # Exit condition: either hit max length\n",
    "        # or find stop character.\n",
    "        if (sampled_char == '\\n' or\n",
    "           len(decoded_sentence) > max_decoder_seq_length):\n",
    "            stop_condition = True\n",
    "\n",
    "        # Update the target sequence (of length 1).\n",
    "        target_seq = np.zeros((1, 1, num_decoder_tokens))\n",
    "        target_seq[0, 0, sampled_token_index] = 1.\n",
    "\n",
    "        # Update states\n",
    "        states_value = [h, c]\n",
    "\n",
    "    return decoded_sentence"
   ]
  },
  {
   "cell_type": "code",
   "execution_count": 28,
   "metadata": {},
   "outputs": [
    {
     "name": "stdout",
     "output_type": "stream",
     "text": [
      "-\n",
      "Input sentence: consentrat\n",
      "Decoded sentence: concentrated\n",
      "\n",
      "-\n",
      "Input sentence: consentrate\n",
      "Decoded sentence: concentrated\n",
      "\n",
      "-\n",
      "Input sentence: dimenntion\n",
      "Decoded sentence: dimension\n",
      "\n",
      "-\n",
      "Input sentence: ddimention\n",
      "Decoded sentence: dimension\n",
      "\n",
      "-\n",
      "Input sentence: dimmention\n",
      "Decoded sentence: dimension\n",
      "\n",
      "-\n",
      "Input sentence: dimentioon\n",
      "Decoded sentence: dimension\n",
      "\n",
      "-\n",
      "Input sentence: dimentiion\n",
      "Decoded sentence: dimensions\n",
      "\n",
      "-\n",
      "Input sentence: dimenttion\n",
      "Decoded sentence: dimension\n",
      "\n",
      "-\n",
      "Input sentence: dimentionn\n",
      "Decoded sentence: dimension\n",
      "\n",
      "-\n",
      "Input sentence: dimentionnn\n",
      "Decoded sentence: dimension\n",
      "\n",
      "-\n",
      "Input sentence: dimentio\n",
      "Decoded sentence: dimension\n",
      "\n",
      "-\n",
      "Input sentence: dimention\n",
      "Decoded sentence: dimension\n",
      "\n",
      "-\n",
      "Input sentence: seingg\n",
      "Decoded sentence: seeing\n",
      "\n",
      "-\n",
      "Input sentence: seeing\n",
      "Decoded sentence: seeing\n",
      "\n",
      "-\n",
      "Input sentence: sseing\n",
      "Decoded sentence: seeing\n",
      "\n",
      "-\n",
      "Input sentence: seinggg\n",
      "Decoded sentence: seeing\n",
      "\n",
      "-\n",
      "Input sentence: sein\n",
      "Decoded sentence: $seising\n",
      "\n",
      "-\n",
      "Input sentence: seing\n",
      "Decoded sentence: seeing\n",
      "\n",
      "-\n",
      "Input sentence: daylligt\n",
      "Decoded sentence: daylight,\n",
      "\n",
      "-\n",
      "Input sentence: dayliigt\n",
      "Decoded sentence: daylight,\n",
      "\n",
      "-\n",
      "Input sentence: dayliggt\n",
      "Decoded sentence: daylight,\n",
      "\n",
      "-\n",
      "Input sentence: daayligt\n",
      "Decoded sentence: daylight,\n",
      "\n",
      "-\n",
      "Input sentence: ddayligt\n",
      "Decoded sentence: daylight,\n",
      "\n",
      "-\n",
      "Input sentence: dayligtt\n",
      "Decoded sentence: daylight,\n",
      "\n",
      "-\n",
      "Input sentence: dayligttt\n",
      "Decoded sentence: daylight,\n",
      "\n",
      "-\n",
      "Input sentence: daylig\n",
      "Decoded sentence: daylight,\n",
      "\n",
      "-\n",
      "Input sentence: dayligt\n",
      "Decoded sentence: daylight,\n",
      "\n",
      "-\n",
      "Input sentence: civiilation\n",
      "Decoded sentence: civilization\n",
      "\n",
      "-\n",
      "Input sentence: civilattion\n",
      "Decoded sentence: civilization,\n",
      "\n",
      "-\n",
      "Input sentence: ccivilation\n",
      "Decoded sentence: civilization\n",
      "\n",
      "-\n",
      "Input sentence: civvilation\n",
      "Decoded sentence: civilization\n",
      "\n",
      "-\n",
      "Input sentence: civillation\n",
      "Decoded sentence: civilization\n",
      "\n",
      "-\n",
      "Input sentence: civilationn\n",
      "Decoded sentence: civilization,\n",
      "\n",
      "-\n",
      "Input sentence: civilationnn\n",
      "Decoded sentence: civilization,\n",
      "\n",
      "-\n",
      "Input sentence: civilatio\n",
      "Decoded sentence: civilization,\n",
      "\n",
      "-\n",
      "Input sentence: civilation\n",
      "Decoded sentence: civilization,\n",
      "\n",
      "-\n",
      "Input sentence: eexposive\n",
      "Decoded sentence: 1\n",
      "\n",
      "-\n",
      "Input sentence: expposive\n",
      "Decoded sentence: 00\n",
      "\n",
      "-\n",
      "Input sentence: exposiive\n",
      "Decoded sentence: 1\n",
      "\n",
      "-\n",
      "Input sentence: exposivve\n",
      "Decoded sentence: explosive,\n",
      "\n",
      "-\n",
      "Input sentence: expossive\n",
      "Decoded sentence: explosive,\n",
      "\n",
      "-\n",
      "Input sentence: exxposive\n",
      "Decoded sentence: explosive,\n",
      "\n",
      "-\n",
      "Input sentence: exposivee\n",
      "Decoded sentence: explosive,\n",
      "\n",
      "-\n",
      "Input sentence: exposiveee\n",
      "Decoded sentence: 1\n",
      "\n",
      "-\n",
      "Input sentence: exposiv\n",
      "Decoded sentence: explosive,\n",
      "\n",
      "-\n",
      "Input sentence: exposive\n",
      "Decoded sentence: explosive,\n",
      "\n",
      "-\n",
      "Input sentence: iressman\n",
      "Decoded sentence: irishman,\n",
      "\n",
      "-\n",
      "Input sentence: iiresman\n",
      "Decoded sentence: irishman,\n",
      "\n",
      "-\n",
      "Input sentence: iresmman\n",
      "Decoded sentence: irishman,\n",
      "\n",
      "-\n",
      "Input sentence: ireesman\n",
      "Decoded sentence: irishman,\n",
      "\n"
     ]
    }
   ],
   "source": [
    "for seq_index in range(1100, 1150):\n",
    "    # Take one sequence (part of the training set)\n",
    "    # for trying out decoding.\n",
    "    input_seq = encoder_input_data[seq_index: seq_index + 1]\n",
    "    decoded_sentence = decode_sequence(input_seq)\n",
    "    print('-')\n",
    "    print('Input sentence:', input_texts[seq_index])\n",
    "    print('Decoded sentence:', decoded_sentence)"
   ]
  },
  {
   "cell_type": "code",
   "execution_count": 74,
   "metadata": {},
   "outputs": [
    {
     "name": "stdout",
     "output_type": "stream",
     "text": [
      "rela\n",
      "relax\n",
      "\n"
     ]
    }
   ],
   "source": [
    "encoder_input_test = np.zeros(\n",
    "    (1, max_encoder_seq_length, num_encoder_tokens),\n",
    "    dtype='float32')\n",
    "text = 'rela'\n",
    "for t, char in enumerate(text):\n",
    "    encoder_input_test[0, t, input_token_index[char]] = 1.\n",
    "\n",
    "decoded_sentence = decode_sequence(encoder_input_test)\n",
    "print(text)\n",
    "print(decoded_sentence)"
   ]
  },
  {
   "cell_type": "code",
   "execution_count": 37,
   "metadata": {},
   "outputs": [
    {
     "data": {
      "text/plain": [
       "44"
      ]
     },
     "execution_count": 37,
     "metadata": {},
     "output_type": "execute_result"
    }
   ],
   "source": [
    "input_token_index['o']"
   ]
  },
  {
   "cell_type": "code",
   "execution_count": 30,
   "metadata": {},
   "outputs": [
    {
     "data": {
      "text/plain": [
       "(1, 27, 56)"
      ]
     },
     "execution_count": 30,
     "metadata": {},
     "output_type": "execute_result"
    }
   ],
   "source": [
    "encoder_input_data[10: 10 + 1].shape"
   ]
  }
 ],
 "metadata": {
  "kernelspec": {
   "display_name": "Python 3",
   "language": "python",
   "name": "python3"
  },
  "language_info": {
   "codemirror_mode": {
    "name": "ipython",
    "version": 3
   },
   "file_extension": ".py",
   "mimetype": "text/x-python",
   "name": "python",
   "nbconvert_exporter": "python",
   "pygments_lexer": "ipython3",
   "version": "3.6.4"
  }
 },
 "nbformat": 4,
 "nbformat_minor": 2
}
